{
 "cells": [
  {
   "cell_type": "code",
   "execution_count": 2,
   "metadata": {},
   "outputs": [
    {
     "name": "stdout",
     "output_type": "stream",
     "text": [
      "<class 'pandas.core.frame.DataFrame'>\n",
      "RangeIndex: 16096 entries, 0 to 16095\n",
      "Data columns (total 32 columns):\n",
      " #   Column                    Non-Null Count  Dtype  \n",
      "---  ------                    --------------  -----  \n",
      " 0   id                        16096 non-null  object \n",
      " 1   activity_new              6551 non-null   object \n",
      " 2   campaign_disc_ele         0 non-null      float64\n",
      " 3   channel_sales             11878 non-null  object \n",
      " 4   cons_12m                  16096 non-null  int64  \n",
      " 5   cons_gas_12m              16096 non-null  int64  \n",
      " 6   cons_last_month           16096 non-null  int64  \n",
      " 7   date_activ                16096 non-null  object \n",
      " 8   date_end                  16094 non-null  object \n",
      " 9   date_first_activ          3508 non-null   object \n",
      " 10  date_modif_prod           15939 non-null  object \n",
      " 11  date_renewal              16056 non-null  object \n",
      " 12  forecast_base_bill_ele    3508 non-null   float64\n",
      " 13  forecast_base_bill_year   3508 non-null   float64\n",
      " 14  forecast_bill_12m         3508 non-null   float64\n",
      " 15  forecast_cons             3508 non-null   float64\n",
      " 16  forecast_cons_12m         16096 non-null  float64\n",
      " 17  forecast_cons_year        16096 non-null  int64  \n",
      " 18  forecast_discount_energy  15970 non-null  float64\n",
      " 19  forecast_meter_rent_12m   16096 non-null  float64\n",
      " 20  forecast_price_energy_p1  15970 non-null  float64\n",
      " 21  forecast_price_energy_p2  15970 non-null  float64\n",
      " 22  forecast_price_pow_p1     15970 non-null  float64\n",
      " 23  has_gas                   16096 non-null  object \n",
      " 24  imp_cons                  16096 non-null  float64\n",
      " 25  margin_gross_pow_ele      16083 non-null  float64\n",
      " 26  margin_net_pow_ele        16083 non-null  float64\n",
      " 27  nb_prod_act               16096 non-null  int64  \n",
      " 28  net_margin                16081 non-null  float64\n",
      " 29  num_years_antig           16096 non-null  int64  \n",
      " 30  origin_up                 16009 non-null  object \n",
      " 31  pow_max                   16093 non-null  float64\n",
      "dtypes: float64(16), int64(6), object(10)\n",
      "memory usage: 3.9+ MB\n"
     ]
    }
   ],
   "source": [
    "#Exploratory data analysis\n",
    "import pandas as pd\n",
    "import seaborn as sns\n",
    "\n",
    "df = pd.read_csv(\"https://raw.githubusercontent.com/alfianpr/BCG-virtual-experience/main/EDA%20and%20Data%20Cleaning/data.csv\")\n",
    "\n",
    "df.info()"
   ]
  }
 ],
 "metadata": {
  "interpreter": {
   "hash": "ecf5722fdaf1897a315d257d89d94520bfcaa453217d5becf09b39e73618b0de"
  },
  "kernelspec": {
   "display_name": "Python 3.9.5 64-bit ('base': conda)",
   "language": "python",
   "name": "python3"
  },
  "language_info": {
   "codemirror_mode": {
    "name": "ipython",
    "version": 3
   },
   "file_extension": ".py",
   "mimetype": "text/x-python",
   "name": "python",
   "nbconvert_exporter": "python",
   "pygments_lexer": "ipython3",
   "version": "3.9.5"
  },
  "orig_nbformat": 4
 },
 "nbformat": 4,
 "nbformat_minor": 2
}
